{
 "cells": [
  {
   "cell_type": "code",
   "execution_count": 2,
   "id": "guilty-sodium",
   "metadata": {},
   "outputs": [
    {
     "name": "stdout",
     "output_type": "stream",
     "text": [
      "Feature engineering tasks completed successfully\n"
     ]
    }
   ],
   "source": [
    "import os\n",
    "import pandas as pd\n",
    "import numpy as np\n",
    "\n",
    "try:\n",
    "\n",
    "    #dataset from cli\n",
    "    data = pd.read_csv('./housing.csv')\n",
    "\n",
    "    #Max fill function for categorical columns\n",
    "    data['ocean_proximity'].fillna(data['ocean_proximity'].value_counts()\n",
    "    .idxmax(), inplace=True)\n",
    "    #Create imputation\n",
    "    threshold = 0.7\n",
    "    #Dropping columns with missing value rate higher than threshold\n",
    "    data = data[data.columns[data.isnull().mean() < threshold]]\n",
    "    #Dropping rows with missing value rate higher than threshold\n",
    "    data = data.loc[data.isnull().mean(axis=1) < threshold]\n",
    "\n",
    "    #Categorical\n",
    "    conditions = [data['ocean_proximity'].str.contains('<1H OCEAN'),\n",
    "        data['ocean_proximity'].str.contains('INLAND'),\n",
    "        data['ocean_proximity'].str.contains('NEAR BAY'),\n",
    "        data['ocean_proximity'].str.contains('ISLAND'),\n",
    "        data['ocean_proximity'].str.contains('NEAR OCEAN')]\n",
    "    choices = ['No', 'No', 'Yes', 'Yes', 'Yes']\n",
    "    data['water_access'] = np.select(conditions, choices, default='Other')\n",
    "    data['water_access'] = data['water_access'].astype(str)\n",
    "\n",
    "    #Create one hot\n",
    "    encoded_columns = pd.get_dummies(data['ocean_proximity'])\n",
    "    data = data.join(encoded_columns).drop('ocean_proximity', axis=1)\n",
    "    data.rename(columns = {'<1H OCEAN':'OH_OCEAN'}, inplace = True)\n",
    "    data.rename(columns = {'NEAR BAY':'NEAR_BAY'}, inplace = True)\n",
    "    data.rename(columns = {'NEAR OCEAN':'NEAR_OCEAN'}, inplace = True)\n",
    "\n",
    "    #Create bins\n",
    "    #Numerical\n",
    "    data['age_bin'] = pd.cut(data['housing_median_age'], bins=[0,20,50,120], labels=[\"Young\", \"Middle-Aged\", \"Aged\"])\n",
    "    data['age_bin'] = data['age_bin'].astype(str)\n",
    "\n",
    "    #Create log transformations\n",
    "    #Log Transform Example\n",
    "    data['latitude2'] = pd.DataFrame({'latitude':[2,45, -23, 85, 28, 2, 35, -12]})\n",
    "    data['log_1'] = (data['latitude']+1).transform(np.log)\n",
    "    #Negative Values Handling\n",
    "    data['log'] = (data['latitude']-data['latitude'].min()+1) .transform(np.log)\n",
    "\n",
    "    #Filling all missing values with 0\n",
    "    data = data.fillna(0)\n",
    "    #Filling missing values with medians of the columns\n",
    "    data = data.fillna(data.median())\n",
    "    print(\"Feature engineering tasks completed successfully\")\n",
    "    #writing to new file\n",
    "    data.to_csv('./housing_revised.csv', index=False, na_rep='Unknown')\n",
    "except Exception as e:\n",
    "    print(\"Error in feature engineering: {0}\".format(str(e)))"
   ]
  },
   ],
   "source": [
    "try:\n",
    "    print(\"Feature creating second file\")\n",
    "    #writing to new file\n",
    "    data.to_csv('./housing_revised_V2.csv', index=False, na_rep='Unknown')\n",
    "    #print data\n",
    "    print(data)\n",
    "except Exception as e:\n",
    "    print(\"Error in feature engineering: {0}\".format(str(e)))"
   ]
  },
  {
   "cell_type": "code",
   "execution_count": null,
   "id": "c2a0f9ee",
   "metadata": {},
   "outputs": [],
   "source": []
  }
 ],
 "metadata": {
  "kernelspec": {
   "display_name": "Python 3",
   "language": "python",
   "name": "python3"
  },
  "language_info": {
   "codemirror_mode": {
    "name": "ipython",
    "version": 3
   },
   "file_extension": ".py",
   "mimetype": "text/x-python",
   "name": "python",
   "nbconvert_exporter": "python",
   "pygments_lexer": "ipython3",
   "version": "3.9.2"
  }
 },
 "nbformat": 4,
 "nbformat_minor": 5
}
